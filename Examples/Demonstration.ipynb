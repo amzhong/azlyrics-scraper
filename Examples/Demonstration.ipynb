{
 "cells": [
  {
   "cell_type": "code",
   "execution_count": 1,
   "id": "c664f60e",
   "metadata": {},
   "outputs": [],
   "source": [
    "# dependencies\n",
    "import requests\n",
    "import pandas as pd\n",
    "from bs4 import BeautifulSoup\n",
    "import re\n",
    "import time\n",
    "import unidecode"
   ]
  },
  {
   "cell_type": "code",
   "execution_count": 2,
   "id": "3f3c2e10",
   "metadata": {},
   "outputs": [],
   "source": [
    "# note: remember to replace CLIENT_ID and CLIENT_SECRET before importing\n",
    "from spotify_azlyrics_scraper import *"
   ]
  },
  {
   "cell_type": "code",
   "execution_count": 3,
   "id": "bdcb3b87",
   "metadata": {},
   "outputs": [
    {
     "name": "stdout",
     "output_type": "stream",
     "text": [
      "Could not reach https://www.azlyrics.com/lyrics/jayladarden/idea683.html\n",
      "Could not reach https://www.azlyrics.com/lyrics/leoniebarbot/fingerscrossed.html\n",
      "Could not reach https://www.azlyrics.com/lyrics/chinx/thuglove.html\n",
      "Could not reach https://www.azlyrics.com/lyrics/jayladarden/idea628.html\n",
      "Could not reach https://www.azlyrics.com/lyrics/phabo/luvmeback.html\n",
      "Could not reach https://www.azlyrics.com/lyrics/victoriamonet/touchme.html\n",
      "Could not reach https://www.azlyrics.com/lyrics/jvckjames/basement.html\n",
      "Could not reach https://www.azlyrics.com/lyrics/kaashpaige/lovesongsbonus.html\n",
      "Could not reach https://www.azlyrics.com/lyrics/stwo/neitherdoi.html\n",
      "Could not reach https://www.azlyrics.com/lyrics/jvckjames/galaxyswimdeeper.html\n",
      "Could not reach https://www.azlyrics.com/lyrics/jeremih/allthetime.html\n",
      "Could not reach https://www.azlyrics.com/lyrics/aboogiewitdahoodie/comecloser.html\n",
      "Could not reach https://www.azlyrics.com/lyrics/jayladarden/mercedeskey.html\n",
      "Could not reach https://www.azlyrics.com/lyrics/johnjackson/dicedpineapples.html\n",
      "Could not reach https://www.azlyrics.com/lyrics/elliotttrent/onefriend.html\n",
      "Could not reach https://www.azlyrics.com/lyrics/beyonce/lovedrought.html\n",
      "Could not reach https://www.azlyrics.com/lyrics/wale/loveherfaultfeatbrysontiller.html\n",
      "Could not reach https://www.azlyrics.com/lyrics/cyhi/tears.html\n",
      "Could not reach https://www.azlyrics.com/lyrics/raahiim/peakfedup.html\n",
      "Could not reach https://www.azlyrics.com/lyrics/jayladarden/ontosomething.html\n",
      "Could not reach https://www.azlyrics.com/lyrics/babyb/slidethrupt2.html\n",
      "Could not reach https://www.azlyrics.com/lyrics/emil/bakerloo.html\n"
     ]
    }
   ],
   "source": [
    "playlist_data = get_playlist_data('1E2BBGP0SOZMKjzgXUHVar')"
   ]
  },
  {
   "cell_type": "markdown",
   "id": "b12c0235",
   "metadata": {},
   "source": [
    "Generally speaking, AZLyrics has a more consistent format to their URLs than Genius. However, their database doesn't include some less well-known artists, and there are still some occasional inconsistencies with the URLs (as well as slight naming differences across Spotify and AZLyrics)."
   ]
  },
  {
   "cell_type": "code",
   "execution_count": 4,
   "id": "e1374027",
   "metadata": {},
   "outputs": [
    {
     "data": {
      "text/html": [
       "<div>\n",
       "<style scoped>\n",
       "    .dataframe tbody tr th:only-of-type {\n",
       "        vertical-align: middle;\n",
       "    }\n",
       "\n",
       "    .dataframe tbody tr th {\n",
       "        vertical-align: top;\n",
       "    }\n",
       "\n",
       "    .dataframe thead th {\n",
       "        text-align: right;\n",
       "    }\n",
       "</style>\n",
       "<table border=\"1\" class=\"dataframe\">\n",
       "  <thead>\n",
       "    <tr style=\"text-align: right;\">\n",
       "      <th></th>\n",
       "      <th>name</th>\n",
       "      <th>artists</th>\n",
       "      <th>lyrics</th>\n",
       "    </tr>\n",
       "  </thead>\n",
       "  <tbody>\n",
       "    <tr>\n",
       "      <th>0</th>\n",
       "      <td>Tonight</td>\n",
       "      <td>[Summer Walker]</td>\n",
       "      <td>You're searchin' this body of mine\\nYou wanna ...</td>\n",
       "    </tr>\n",
       "    <tr>\n",
       "      <th>1</th>\n",
       "      <td>FOREVER (with 6LACK)</td>\n",
       "      <td>[Jessie Reyez, 6LACK]</td>\n",
       "      <td>Somebody, somebody, somebody, somebody\\nPasswo...</td>\n",
       "    </tr>\n",
       "    <tr>\n",
       "      <th>2</th>\n",
       "      <td>Sativa</td>\n",
       "      <td>[Jhené Aiko, Swae Lee]</td>\n",
       "      <td>[Jhene Aiko &amp; Swae Lee:]\\nYeah, oh\\nOh, yeah\\n...</td>\n",
       "    </tr>\n",
       "    <tr>\n",
       "      <th>3</th>\n",
       "      <td>Idea 683</td>\n",
       "      <td>[Jayla Darden]</td>\n",
       "      <td></td>\n",
       "    </tr>\n",
       "    <tr>\n",
       "      <th>4</th>\n",
       "      <td>Scenic Drive (feat. Ari Lennox &amp; Smino)</td>\n",
       "      <td>[Khalid, Ari Lennox, Smino]</td>\n",
       "      <td>Yeah, yeah (Ah, ah, ah)\\nYeah, yeah, yeah\\nYea...</td>\n",
       "    </tr>\n",
       "    <tr>\n",
       "      <th>...</th>\n",
       "      <td>...</td>\n",
       "      <td>...</td>\n",
       "      <td>...</td>\n",
       "    </tr>\n",
       "    <tr>\n",
       "      <th>106</th>\n",
       "      <td>Close 2 U</td>\n",
       "      <td>[Nbdy]</td>\n",
       "      <td>Girl I wanna know\\nWhat's going on with you\\nG...</td>\n",
       "    </tr>\n",
       "    <tr>\n",
       "      <th>107</th>\n",
       "      <td>Hard To Love</td>\n",
       "      <td>[H.E.R.]</td>\n",
       "      <td>I've been so far from here\\nBeen so far from h...</td>\n",
       "    </tr>\n",
       "    <tr>\n",
       "      <th>108</th>\n",
       "      <td>Window Seat (feat. Wafia)</td>\n",
       "      <td>[Thomston, Wafia]</td>\n",
       "      <td>[Wafia:]\\nI call you names inside my head\\nBut...</td>\n",
       "    </tr>\n",
       "    <tr>\n",
       "      <th>109</th>\n",
       "      <td>Care</td>\n",
       "      <td>[Sonder]</td>\n",
       "      <td>You've been working\\nYou've been working late\\...</td>\n",
       "    </tr>\n",
       "    <tr>\n",
       "      <th>110</th>\n",
       "      <td>Bakerloo</td>\n",
       "      <td>[emil, Knucks]</td>\n",
       "      <td></td>\n",
       "    </tr>\n",
       "  </tbody>\n",
       "</table>\n",
       "<p>111 rows × 3 columns</p>\n",
       "</div>"
      ],
      "text/plain": [
       "                                        name                      artists  \\\n",
       "0                                    Tonight              [Summer Walker]   \n",
       "1                       FOREVER (with 6LACK)        [Jessie Reyez, 6LACK]   \n",
       "2                                     Sativa       [Jhené Aiko, Swae Lee]   \n",
       "3                                   Idea 683               [Jayla Darden]   \n",
       "4    Scenic Drive (feat. Ari Lennox & Smino)  [Khalid, Ari Lennox, Smino]   \n",
       "..                                       ...                          ...   \n",
       "106                                Close 2 U                       [Nbdy]   \n",
       "107                             Hard To Love                     [H.E.R.]   \n",
       "108                Window Seat (feat. Wafia)            [Thomston, Wafia]   \n",
       "109                                     Care                     [Sonder]   \n",
       "110                                 Bakerloo               [emil, Knucks]   \n",
       "\n",
       "                                                lyrics  \n",
       "0    You're searchin' this body of mine\\nYou wanna ...  \n",
       "1    Somebody, somebody, somebody, somebody\\nPasswo...  \n",
       "2    [Jhene Aiko & Swae Lee:]\\nYeah, oh\\nOh, yeah\\n...  \n",
       "3                                                       \n",
       "4    Yeah, yeah (Ah, ah, ah)\\nYeah, yeah, yeah\\nYea...  \n",
       "..                                                 ...  \n",
       "106  Girl I wanna know\\nWhat's going on with you\\nG...  \n",
       "107  I've been so far from here\\nBeen so far from h...  \n",
       "108  [Wafia:]\\nI call you names inside my head\\nBut...  \n",
       "109  You've been working\\nYou've been working late\\...  \n",
       "110                                                     \n",
       "\n",
       "[111 rows x 3 columns]"
      ]
     },
     "execution_count": 4,
     "metadata": {},
     "output_type": "execute_result"
    }
   ],
   "source": [
    "playlist_data"
   ]
  },
  {
   "cell_type": "code",
   "execution_count": null,
   "id": "77b400b8",
   "metadata": {},
   "outputs": [],
   "source": []
  }
 ],
 "metadata": {
  "kernelspec": {
   "display_name": "Python 3",
   "language": "python",
   "name": "python3"
  },
  "language_info": {
   "codemirror_mode": {
    "name": "ipython",
    "version": 3
   },
   "file_extension": ".py",
   "mimetype": "text/x-python",
   "name": "python",
   "nbconvert_exporter": "python",
   "pygments_lexer": "ipython3",
   "version": "3.8.8"
  }
 },
 "nbformat": 4,
 "nbformat_minor": 5
}
